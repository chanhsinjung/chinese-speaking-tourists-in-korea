{
  "nbformat": 4,
  "nbformat_minor": 0,
  "metadata": {
    "colab": {
      "provenance": []
    },
    "kernelspec": {
      "name": "python3",
      "display_name": "Python 3"
    }
  },
  "cells": [
    {
      "cell_type": "code",
      "source": [
        "!pip install -U -q PyDrive\n",
        "\n",
        "from pydrive.auth import GoogleAuth\n",
        "from pydrive.drive import GoogleDrive\n",
        "from google.colab import auth\n",
        "from oauth2client.client import GoogleCredentials\n",
        "\n",
        "auth.authenticate_user()\n",
        "gauth = GoogleAuth()\n",
        "gauth.credentials = GoogleCredentials.get_application_default()\n",
        "drive = GoogleDrive(gauth)\n",
        "\n",
        "# 참고 자료\n",
        "# https://blog.naver.com/breezehome50/222353492058\n",
        "# https://statistics.laerd.com/statistical-guides/spearmans-rank-order-correlation-statistical-guide.php\n",
        "# 전체 spearman(스피어만) 상관계수\n",
        "import pandas as pd\n",
        "import scipy.stats as stats\n",
        "\n",
        "#https://drive.google.com/file/d/1fraX0BD9j6ylacQbckyWaE9_apKjEIO5/view?usp=sharing\n",
        "RefinedData_전체_만족도 = \"https://drive.google.com/uc?id=1fraX0BD9j6ylacQbckyWaE9_apKjEIO5\"\n",
        "df = pd.read_csv(RefinedData_전체_만족도,encoding=\"utf-8\")\n",
        "\n",
        "# 상관계수와 p value # x=만족도 y=재방문의사 z=추천의사\n",
        "rho_xy, p_val_xy = stats.spearmanr(df['x'], df['y'])\n",
        "rho_yz, p_val_yz = stats.spearmanr(df['y'], df['z'])\n",
        "rho_xz, p_val_xz = stats.spearmanr(df['x'], df['z'])\n",
        "\n",
        "print(\"correlation coefficient:{},p-value:{}\".format(rho_xy, p_val_xy))\n",
        "print(\"correlation coefficient:{},p-value:{}\".format(rho_yz, p_val_yz))\n",
        "print(\"correlation coefficient:{},p-value:{}\".format(rho_xz, p_val_xz))"
      ],
      "metadata": {
        "colab": {
          "base_uri": "https://localhost:8080/"
        },
        "id": "tBx1azX3b8bU",
        "outputId": "a97978c6-cf67-4b6e-d3aa-f5573003364a"
      },
      "execution_count": null,
      "outputs": [
        {
          "output_type": "stream",
          "name": "stderr",
          "text": [
            "WARNING:root:pydrive is deprecated and no longer maintained. We recommend that you migrate your projects to pydrive2, the maintained fork of pydrive\n"
          ]
        },
        {
          "output_type": "stream",
          "name": "stdout",
          "text": [
            "correlation coefficient:0.350915690676609,p-value:0.0\n",
            "correlation coefficient:0.6660903526760384,p-value:0.0\n",
            "correlation coefficient:0.2822516615238686,p-value:0.0\n"
          ]
        }
      ]
    },
    {
      "cell_type": "code",
      "source": [
        "# 중화권 spearman(스피어만) 상관계수\n",
        "import pandas as pd\n",
        "import scipy.stats as stats\n",
        "\n",
        "# https://drive.google.com/file/d/1yUL8ePQmEwVm6zA8_42iYKfhHhQy5cRj/view?usp=drive_link\n",
        "RefinedData_중화권_만족도 = \"https://drive.google.com/uc?id=1yUL8ePQmEwVm6zA8_42iYKfhHhQy5cRj\"\n",
        "df = pd.read_csv(RefinedData_중화권_만족도,encoding=\"utf-8\")\n",
        "\n",
        "# 상관계수와 p value # x=만족도 y=재방문의사 z=추천의사\n",
        "rho_xy, p_val_xy = stats.spearmanr(df['x'], df['y'])\n",
        "rho_yz, p_val_yz = stats.spearmanr(df['y'], df['z'])\n",
        "rho_xz, p_val_xz = stats.spearmanr(df['x'], df['z'])\n",
        "\n",
        "print(\"correlation coefficient:{},p-value:{}\".format(rho_xy, p_val_xy))\n",
        "print(\"correlation coefficient:{},p-value:{}\".format(rho_yz, p_val_yz))\n",
        "print(\"correlation coefficient:{},p-value:{}\".format(rho_xz, p_val_xz))\n"
      ],
      "metadata": {
        "colab": {
          "base_uri": "https://localhost:8080/"
        },
        "id": "RnzVwNcUZ7Uz",
        "outputId": "7cb0c4b3-863c-4e33-b3a8-fbb486cea12c"
      },
      "execution_count": null,
      "outputs": [
        {
          "output_type": "stream",
          "name": "stdout",
          "text": [
            "correlation coefficient:0.35067708975699113,p-value:0.0\n",
            "correlation coefficient:0.7567891779992162,p-value:0.0\n",
            "correlation coefficient:0.3737842896039441,p-value:0.0\n"
          ]
        }
      ]
    }
  ]
}